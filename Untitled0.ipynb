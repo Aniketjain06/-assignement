{
  "nbformat": 4,
  "nbformat_minor": 0,
  "metadata": {
    "colab": {
      "provenance": []
    },
    "kernelspec": {
      "name": "python3",
      "display_name": "Python 3"
    },
    "language_info": {
      "name": "python"
    }
  },
  "cells": [
    {
      "cell_type": "markdown",
      "source": [
        "explain the key features of Python that make it a popular choice for programming?                                                              \n",
        " the key feauture of python which makes it versatile are - it is a free and open soure ,easy to earn and use and highly object orianted"
      ],
      "metadata": {
        "id": "8skiPulS3CgR"
      }
    },
    {
      "cell_type": "markdown",
      "source": [
        "Describe the role of predefined keywords in Python and provide examples of how they are used in a program?\n",
        "\n",
        " in python, predefined keywords are words that have apecial meaning these keywords define the syntax and structure of python some of the predefined keeywords are -if,else,while,print,except,retur and def for example-\n",
        "x = 10\n",
        "\n",
        "if x > 5:\n",
        "\n",
        "    print(\"x is greater than 5\")\n",
        "\n",
        "elif x == 5:\n",
        "\n",
        "    print(\"x is equal to 5\")\n",
        "\n",
        "else:\n",
        "\n",
        "    print(\"x is less than 5\")"
      ],
      "metadata": {
        "id": "y6MCxoI953pq"
      }
    },
    {
      "cell_type": "markdown",
      "source": [],
      "metadata": {
        "id": "Xwv9GyR53gqg"
      }
    },
    {
      "cell_type": "markdown",
      "source": [
        "# New Section"
      ],
      "metadata": {
        "id": "QYsQtKbC29nL"
      }
    },
    {
      "cell_type": "markdown",
      "source": [
        "compare and contrast mutable and immutable objects in phyton with examples?\n",
        "\n",
        "in which variable cant change its defined value its knows as immutable for example-string\n",
        "\n",
        "in which variable can change its defined value its know as muttable for example- list"
      ],
      "metadata": {
        "id": "4eSPaUlG6_EA"
      }
    },
    {
      "cell_type": "markdown",
      "source": [
        "discuss the different type of operators  in phython and provide examples of how they are used ?\n",
        "\n",
        "there are 7 types of operators-shift operator,floor operator,compariosn operator,logical operator,membership operator,identity operator,bitwise operator\n",
        "\n",
        "1)floor opertor - gives the smallest integer near to the input number for exaple 4//3 is 1.33333 but floor willl give it as 1\n",
        "\n",
        "2)comparison operator- it returns the value in true or false for example 2==2 it will give as true whereas 2==3 it will give it as false\n",
        "\n",
        "3)shift operator - there are two operator in shift operator left shift operator and right shift operator\n",
        "\n",
        "left shift operator is denoted by the symbol(<<)-it ads zeros to the right side of the value for eg- 35<<3=280\n",
        "\n",
        "right shift operator is denoted by the symbol(>>)- it removes right side value for eg-280>>3-35\n",
        "\n",
        "4)bitwise operator-these use bitwiese operation for the working for eg-bin(10)=1010\n",
        "\n",
        "5)logical operator-are of two types and , or\n",
        "\n",
        "and operator for  a value to be 1 both the digits have to be perfeect for eg-true and true will be one but true and false will be 0\n",
        "\n",
        "or operator for a value to be 1 either of the digits have to be perfect for eg-true or false would be 1 but false or false will be 0\n",
        "\n",
        "6-membership operator- helps to find a specific keyword in the list for eg-a=\"pwskils\"\n",
        "\n",
        "\"p\"in a\n",
        "\n",
        "true\n",
        "\n",
        "7)identity operator - it return the value in bolean which is wither in true or false for eg- a=2 and b=3\n",
        "\n",
        "is a =b\n",
        "\n",
        "false"
      ],
      "metadata": {
        "id": "CBdXtpGk7gse"
      }
    },
    {
      "cell_type": "markdown",
      "source": [
        "explain the concept of type casting with examples ?\n",
        "\n",
        "the concept of type casting is to to change one datatype into another are per are use for eg-\n",
        "\n",
        "a=\"2\"\n",
        "\n",
        "print(type(a)) that will be equal to string but now if we use type casting we will write\n",
        "\n",
        "print(type(int(a))) now this willl give us the data type as integer"
      ],
      "metadata": {
        "id": "9WfMAFTwC_2h"
      }
    },
    {
      "cell_type": "code",
      "source": [
        " how do conditional state work in phython? illutrate with example\n",
        "Conditional statements in Python allow you to control the flow of your program based on certain conditions.\n",
        " They evaluate expressions that result in either True or False, and then execute different blocks of code\n",
        " depending on the outcome.\n",
        "\n",
        " Here's a breakdown of how they work with examples:\n",
        "\n",
        " 1. If Statement:\n",
        "   - Executes a block of code only if a certain condition is True.\n",
        "\n",
        "x = 10\n",
        "\n",
        "if x > 5:\n",
        "  print(\"x is greater than 5\")\n",
        "\n",
        "\n",
        " 2. If-Else Statement:\n",
        " - Executes one block of code if a condition is True, and another block if it's False.\n",
        "\n",
        "y = 3\n",
        "\n",
        "if y > 5:\n",
        "  print(\"y is greater than 5\")\n",
        "else:\n",
        "  print(\"y is not greater than 5\")\n",
        "\n",
        "\n",
        " 3. If-Elif-Else Statement:\n",
        "   - Allows you to check multiple conditions in sequence.\n",
        "   - If one condition is True, its corresponding block is executed, and the rest are skipped.\n",
        "\n",
        "z = 5\n",
        "\n",
        "if z > 5:\n",
        "  print(\"z is greater than 5\")\n",
        "elif z == 5:\n",
        "  print(\"z is equal to 5\")\n",
        "else:\n",
        "  print(\"z is less than 5\")\n",
        "\n",
        "\n",
        " Example: Checking if a number is positive, negative, or zero.\n",
        "\n",
        "number = -2\n",
        "\n",
        "if number > 0:\n",
        "  print(\"The number is positive.\")\n",
        "elif number < 0:\n",
        "  print(\"The number is negative.\")\n",
        "else:\n",
        "  print(\"The number is zero.\")\n"
      ],
      "metadata": {
        "id": "4lD2GN3oCJC9"
      },
      "execution_count": null,
      "outputs": []
    },
    {
      "cell_type": "code",
      "source": [
        " descirbe the different types of loops in python and their use cases with examples?\n",
        "\n",
        " 1. For Loop:\n",
        " - Used for iterating over a sequence (like a list, tuple, string, or range).\n",
        "  - Executes a block of code for each item in the sequence.\n",
        "\n",
        " Example: Printing numbers from 0 to 4.\n",
        "for i in range(5):\n",
        "  print(i)\n",
        "\n",
        "\n",
        " 2. While Loop:\n",
        " - Used for repeatedly executing a block of code as long as a condition is True.\n",
        " - Useful when you don't know the exact number of iterations beforehand.\n",
        "\n",
        " Example: Printing numbers while a variable is less than 5.\n",
        "count = 0\n",
        "while count < 5:\n",
        "  print(count)\n",
        "  count += 1\n",
        "\n",
        "\n",
        " 3. Nested Loops:\n",
        " - A loop inside another loop.\n",
        " - Useful for working with multi-dimensional data structures or creating patterns.\n",
        "\n",
        " Example: Creating a multiplication table.\n",
        "for i in range(1, 6):\n",
        "  for j in range(1, 6):\n",
        "    print(i * j, end=\" \")\n",
        "  print()  # Move to the next line after each inner loop completes.\n",
        "\n",
        "\n",
        "\n",
        " Use Cases:\n",
        " - For loops: Iterating through lists, processing data in files, generating sequences.\n",
        " - While loops: Creating interactive programs, checking for conditions until they are met.\n",
        " - Nested loops: Matrix operations, generating complex patterns, iterating through multi-level data.\n"
      ],
      "metadata": {
        "id": "vmVbxQ3rDO1C"
      },
      "execution_count": null,
      "outputs": []
    }
  ]
}