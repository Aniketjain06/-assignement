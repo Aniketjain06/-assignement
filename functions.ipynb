{
  "nbformat": 4,
  "nbformat_minor": 0,
  "metadata": {
    "colab": {
      "provenance": []
    },
    "kernelspec": {
      "name": "python3",
      "display_name": "Python 3"
    },
    "language_info": {
      "name": "python"
    }
  },
  "cells": [
    {
      "cell_type": "code",
      "source": [
        " What is the difference between a function and a method in Python?\n",
        "\n",
        "# Function:\n",
        "def add(x, y):\n",
        "  return x + y\n",
        "\n",
        "result = add(5, 3)  # Calling the function directly\n",
        "print(result)  # Output: 8\n",
        "\n",
        "\n",
        "# Method (associated with a string object):\n",
        "my_string = \"hello\"\n",
        "uppercase_string = my_string.upper() # Calling a method on a string object\n",
        "print(uppercase_string) # Output: HELLO"
      ],
      "metadata": {
        "id": "_0tdmcMYT-W4"
      },
      "execution_count": null,
      "outputs": []
    },
    {
      "cell_type": "markdown",
      "source": [],
      "metadata": {
        "id": "m6ONjq8jUXrs"
      }
    },
    {
      "cell_type": "code",
      "source": [
        ": Explain the concept of function arguments and parameters in Python\n",
        "\n",
        "Okay, let's break down function arguments and parameters in Python, using your example as context:\n",
        "\n",
        "**Parameters:**\n",
        "\n",
        "* **Definition:**  Parameters are the names listed within the parentheses of a function definition. They act as placeholders for the values that will be passed into the function when it's called.\n",
        "* **Example:**  In your `add(x, y)` function, `x` and `y` are parameters. They define what kind of inputs the function expects.\n",
        "\n",
        "**Arguments:**\n",
        "\n",
        "* **Definition:** Arguments are the actual values that are provided to a function when it's called. These values are substituted for the corresponding parameters in the function's code.\n",
        "* **Example:** In the `result = add(5, 3)` call, `5` and `3` are arguments.  They are the specific values being used for the `x` and `y` parameters within the `add` function.\n",
        "\n",
        "\n",
        "**In essence:**\n",
        "\n",
        "* Parameters are like variables that represent the inputs a function expects.\n",
        "* Arguments are the real data that you give to the function when it's called, filling those parameter slots.\n",
        "\n",
        "\n",
        "**Key Points:**\n",
        "\n",
        "* Functions can have zero, one, or many parameters.\n",
        "* The order of arguments in a function call matters – they are assigned to parameters in the same order they are listed.\n",
        "* Arguments can be of different data types, including numbers, strings, lists, dictionaries, etc.\n",
        "\n",
        "\n",
        "**Let's clarify using your example:**\n",
        "\n",
        "1. You defined `add(x, y)`:\n",
        "   - `x` and `y` are **parameters** within the function definition.\n",
        "\n",
        "2. You called `add(5, 3)`:\n",
        "   - `5` and `3` are **arguments** used to invoke the function.\n",
        "   - Inside the function, `x` becomes `5` and `y` becomes `3`.\n",
        "\n"
      ],
      "metadata": {
        "id": "DtvHv6gSUYpr"
      },
      "execution_count": null,
      "outputs": []
    },
    {
      "cell_type": "code",
      "source": [
        " What are the different ways to define and call a function in Python?\n",
        "\n",
        "# Defining a function using 'def' keyword\n",
        "def greet(name):\n",
        "  \"\"\"This function greets the person passed in as a parameter.\"\"\"\n",
        "  print(f\"Hello, {name}!\")\n",
        "\n",
        "# Calling the function with an argument\n",
        "greet(\"Alice\")\n",
        "\n",
        "\n",
        "# Defining a function with default parameter value\n",
        "def power(base, exponent=2):\n",
        "  \"\"\"This function calculates the power of a number.\n",
        "  If exponent is not provided, it defaults to 2.\"\"\"\n",
        "  return base ** exponent\n",
        "\n",
        "# Calling the function with both arguments\n",
        "result1 = power(3, 4)\n",
        "print(result1)  # Output: 81\n",
        "\n",
        "# Calling the function with only one argument, using the default value\n",
        "result2 = power(5)\n",
        "print(result2)  # Output: 25\n",
        "\n",
        "\n",
        "# Defining an anonymous function (lambda function)\n",
        "square = lambda x: x * x\n",
        "\n",
        "# Calling the lambda function\n",
        "result3 = square(7)\n",
        "print(result3)  # Output: 49\n"
      ],
      "metadata": {
        "id": "06fAFzt9Ugkg"
      },
      "execution_count": null,
      "outputs": []
    },
    {
      "cell_type": "code",
      "source": [
        " What is the purpose of the `return` statement in a Python function?\n",
        "\n",
        "def add(x, y):\n",
        "  return x + y\n",
        "\n",
        "result = add(5, 3)\n",
        "print(result)  # Output: 8"
      ],
      "metadata": {
        "id": "m4nF-y77Un0_"
      },
      "execution_count": null,
      "outputs": []
    },
    {
      "cell_type": "code",
      "source": [
        " What are iterators in Python and how do they differ from iterables?\n",
        "\n",
        "# Iterators and Iterables in Python\n",
        "\n",
        "# Iterable:\n",
        "# An object that can be looped over (e.g., list, tuple, string, dictionary).\n",
        "# It provides a way to access its elements one by one.\n",
        "my_list = [1, 2, 3]  # my_list is an iterable\n",
        "\n",
        "\n",
        "# Iterator:\n",
        "# An object that produces the next value in a sequence when you call next() on it.\n",
        " It keeps track of the current position within the iteration.\n",
        "my_iterator = iter(my_list)  # Creating an iterator from the iterable\n",
        "\n",
        "\n",
        "# Difference between Iterators and Iterables:\n",
        " - Iterables are objects you can loop through.\n",
        " - Iterators are objects that produce values one at a time when you call next().\n",
        " - You can get an iterator from an iterable using the iter() function.\n",
        " - You can use the next() function to get the next value from the iterator.\n",
        "\n",
        "\n",
        "# Example of using an iterator:\n",
        "print(next(my_iterator))  # Output: 1\n",
        "print(next(my_iterator))  # Output: 2\n",
        "print(next(my_iterator))  # Output: 3\n",
        "# If you try to call next() again, you'll get a StopIteration exception.\n",
        "\n",
        "\n",
        "# Looping through an iterable automatically creates and uses an iterator:\n",
        "for element in my_list:\n",
        "  print(element)  # Output: 1, 2, 3 (An iterator is implicitly used)"
      ],
      "metadata": {
        "id": "qU8Gh97JUx7j"
      },
      "execution_count": null,
      "outputs": []
    },
    {
      "cell_type": "markdown",
      "source": [],
      "metadata": {
        "id": "noOHdFBMVFsq"
      }
    },
    {
      "cell_type": "code",
      "source": [
        " Explain the concept of generators in Python and how they are defined.\n",
        "\n",
        "def my_generator(n):\n",
        "  \"\"\"A simple generator that yields numbers from 0 to n.\"\"\"\n",
        "  for i in range(n):\n",
        "    yield i\n",
        "\n",
        "# Create a generator object\n",
        "gen = my_generator(5)\n",
        "\n",
        "# Iterate over the generator\n",
        "for value in gen:\n",
        "  print(value)"
      ],
      "metadata": {
        "id": "6FHDh78rU9em"
      },
      "execution_count": null,
      "outputs": []
    },
    {
      "cell_type": "code",
      "source": [
        " What are the advantages of using generators over regular functions?\n",
        "\n",
        "# Advantages of using generators over regular functions:\n",
        "\n",
        "# 1. Memory Efficiency:\n",
        " - Generators produce values one at a time, on demand.\n",
        " - They don't store the entire sequence in memory like a list or tuple.\n",
        " - This is especially useful when dealing with large datasets or infinite sequences where storing all values would be impractical or impossible.\n",
        "\n",
        "# 2. Improved Performance:\n",
        " - Generators can be more efficient, especially for computationally expensive operations.\n",
        " - They avoid the overhead of creating and storing a complete sequence in memory.\n",
        "\n",
        "# 3. Lazy Evaluation:\n",
        " - Generators only compute values when they are needed.\n",
        " - This can be advantageous when processing large sequences or when some values might not be required at all.\n",
        "\n",
        "# 4. Concise Code:\n",
        " - Generators can often lead to more concise code because they use `yield` instead of explicitly building a list or tuple.\n",
        "\n",
        "# Example Scenario:\n",
        " Imagine you need to generate a sequence of very large numbers and only process a few of them. A generator would be more efficient than generating the whole sequence and storing it in memory."
      ],
      "metadata": {
        "id": "0rQR00FqVLrH"
      },
      "execution_count": null,
      "outputs": []
    },
    {
      "cell_type": "code",
      "source": [
        " Explain the purpose and usage of the `map()` function in Python.\n",
        "\n",
        "def map(func, iterable):\n",
        "  \"\"\"Applies a function to each item in an iterable and returns an iterator.\n",
        "\n",
        "  Args:\n",
        "    func: The function to apply to each item.\n",
        "    iterable: The iterable (e.g., list, tuple, string) to iterate over.\n",
        "\n",
        "  Returns:\n",
        "    An iterator containing the results of applying the function to each item.\n",
        "  \"\"\"\n",
        "  for item in iterable:\n",
        "    yield func(item)\n",
        "\n",
        "# Example usage:\n",
        "numbers = [1, 2, 3, 4, 5]\n",
        "squared_numbers = map(lambda x: x * x, numbers)  # Use a lambda function to square each number\n",
        "print(list(squared_numbers))  # Output: [1, 4, 9, 16, 25]\n",
        "\n"
      ],
      "metadata": {
        "id": "ijm8w0M8VXFq"
      },
      "execution_count": null,
      "outputs": []
    },
    {
      "cell_type": "markdown",
      "source": [],
      "metadata": {
        "id": "Kq1x4vkdVrSw"
      }
    },
    {
      "cell_type": "code",
      "source": [
        " What is the difference between `map()`, `reduce()`, and `filter()` functions in Python?\n",
        "\n",
        "Okay, let's break down the differences between `map()`, `reduce()`, and `filter()` in Python:\n",
        "\n",
        "**1. `map()` Function:**\n",
        "\n",
        "* **Purpose:** Applies a given function to each item in an iterable (e.g., list, tuple, string) and returns an iterator containing the results.\n",
        "* **How it Works:** It takes two arguments: a function and an iterable. It iterates through the iterable, applies the function to each element, and yields the result.\n",
        "* **Example:**\n",
        "   ```python\n",
        "   numbers = [1, 2, 3, 4, 5]\n",
        "   squared_numbers = map(lambda x: x * x, numbers)\n",
        "   print(list(squared_numbers))  # Output: [1, 4, 9, 16, 25]\n",
        "   ```\n",
        "   In this case, the `lambda` function squares each number in the `numbers` list.\n",
        "\n",
        "**2. `reduce()` Function:**\n",
        "\n",
        "* **Purpose:** Applies a function cumulatively to the items of an iterable, reducing it to a single value.\n",
        "* **How it Works:** It takes two arguments: a function and an iterable. It starts by applying the function to the first two elements of the iterable. The result of this operation becomes the first input to the function in the next iteration, along with the third element of the iterable, and so on. This process continues until only a single value remains.\n",
        "* **Example:**\n",
        "   ```python\n",
        "   from functools import reduce\n",
        "\n",
        "   numbers = [1, 2, 3, 4, 5]\n",
        "   product = reduce(lambda x, y: x * y, numbers)\n",
        "   print(product)  # Output: 120\n",
        "   ```\n",
        "   In this case, `reduce()` calculates the product of all numbers in the list.\n",
        "\n",
        "**3. `filter()` Function:**\n",
        "\n",
        "* **Purpose:** Creates a new iterator containing only the elements from an iterable that satisfy a given condition.\n",
        "* **How it Works:** It takes two arguments: a function that returns a Boolean value (True or False) and an iterable. It iterates through the iterable, applies the function to each element, and yields the element only if the function returns `True`.\n",
        "* **Example:**\n",
        "   ```python\n",
        "   numbers = [1, 2, 3, 4, 5, 6]\n",
        "   even_numbers = filter(lambda x: x % 2 == 0, numbers)\n",
        "   print(list(even_numbers))  # Output: [2, 4, 6]\n",
        "   ```\n",
        "   In this case, `filter()` keeps only the even numbers from the `numbers` list.\n",
        "\n",
        "\n",
        "\n",
        "**In Summary:**\n",
        "\n",
        "* `map()` transforms each element of an iterable.\n",
        "* `reduce()` combines elements of an iterable into a single result.\n",
        "* `filter()` selects elements from an iterable based on a condition."
      ],
      "metadata": {
        "id": "M911L5GlVd2l"
      },
      "execution_count": null,
      "outputs": []
    },
    {
      "cell_type": "markdown",
      "source": [
        "#PRACTICAL QUESTIONS NOW"
      ],
      "metadata": {
        "id": "lP8LpGZHVwbS"
      }
    },
    {
      "cell_type": "markdown",
      "source": [],
      "metadata": {
        "id": "q2YnkWLnWQMc"
      }
    },
    {
      "cell_type": "code",
      "source": [
        " Write a Python function that takes a list of numbers as input and returns the sum of all even numbers in\n",
        "# the list.\n",
        "\n",
        "def sum_even_numbers(numbers):\n",
        "  sum_of_evens = 0\n",
        "  for number in numbers:\n",
        "    if number % 2 == 0:\n",
        "      sum_of_evens += number\n",
        "  return sum_of_evens\n",
        "\n",
        "# Example usage:\n",
        "my_list = [1, 2, 3, 4, 5, 6, 7, 8, 9, 10]\n",
        "result = sum_even_numbers(my_list)\n",
        "print(result)  # Output: 30"
      ],
      "metadata": {
        "id": "Bl5Dp7uJV2XY"
      },
      "execution_count": null,
      "outputs": []
    },
    {
      "cell_type": "code",
      "source": [
        " Create a Python function that accepts a string and returns the reverse of that string.\n",
        "\n",
        "def reverse_string(input_string):\n",
        "  return input_string[::-1]\n",
        "\n",
        "# Example usage:\n",
        "my_string = \"Hello, world!\"\n",
        "reversed_string = reverse_string(my_string)\n",
        "print(reversed_string)  # Output: !dlrow ,olleH"
      ],
      "metadata": {
        "id": "N2OXXDlZWSMK"
      },
      "execution_count": null,
      "outputs": []
    },
    {
      "cell_type": "code",
      "source": [
        "  Implement a Python function that takes a list of integers and returns a new list containing the squares of each number.\n",
        "\n",
        "from functools import reduce\n",
        "\n",
        "def square_list(numbers):\n",
        "  \"\"\"Squares each number in a list and returns a new list with the results.\"\"\"\n",
        "  return [x * x for x in numbers]\n",
        "\n",
        "# # Example usage:\n",
        " my_list = [1, 2, 3, 4, 5]\n",
        " squared_list = square_list(my_list)\n",
        " print(squared_list)  # Output: [1, 4, 9, 16, 25]\n",
        "\n",
        "\n",
        "# Difference between a Function and a Method in Python:\n",
        "\n",
        "# Function:\n",
        " - A block of code that performs a specific task.\n",
        " - It is independent of any specific object or class.\n",
        " - It is called directly using its name.\n",
        " - Example: `def add(x, y): return x + y`\n",
        "\n",
        "# Method:\n",
        " - A function that is associated with an object or class.\n",
        " - It is accessed using the dot notation (object.method()).\n",
        " - It can operate on the data within the object.\n",
        " - Example: `my_string.upper()`\n",
        "\n",
        "\n",
        "# Key Differences:\n",
        "\n",
        " - Functions are called directly, while methods are called on objects.\n",
        " - Methods have access to the object's data, while functions do not necessarily."
      ],
      "metadata": {
        "id": "IA7cBiMFWbHy"
      },
      "execution_count": null,
      "outputs": []
    },
    {
      "cell_type": "markdown",
      "source": [],
      "metadata": {
        "id": "HDGEZjqvW18q"
      }
    },
    {
      "cell_type": "code",
      "source": [
        " Write a Python function that checks if a given number is prime or not from 1 to 200.\n",
        "\n",
        "def is_prime(number):\n",
        "  \"\"\"Checks if a number is prime.\"\"\"\n",
        "  if number <= 1:\n",
        "    return False\n",
        "  for i in range(2, int(number**0.5) + 1):\n",
        "    if number % i == 0:\n",
        "      return False\n",
        "  return True\n",
        "\n",
        "def prime_numbers_in_range(start, end):\n",
        "  \"\"\"Finds prime numbers within a given range.\"\"\"\n",
        "  prime_numbers = []\n",
        "  for number in range(start, end + 1):\n",
        "    if is_prime(number):\n",
        "      prime_numbers.append(number)\n",
        "  return prime_numbers\n",
        "\n",
        "# Find prime numbers from 1 to 200\n",
        "primes = prime_numbers_in_range(1, 200)\n",
        "print(primes)"
      ],
      "metadata": {
        "id": "xZU3144zWrsg"
      },
      "execution_count": null,
      "outputs": []
    },
    {
      "cell_type": "code",
      "source": [
        " Write a generator function in Python that yields the powers of 2 up to a given exponent.\n",
        "\n",
        "def powers_of_2(exponent):\n",
        "  for i in range(exponent + 1):\n",
        "    yield 2 ** i\n",
        "\n",
        "# Example usage:\n",
        "for power in powers_of_2(5):\n",
        "  print(power)"
      ],
      "metadata": {
        "id": "nVm9zAnCW49j"
      },
      "execution_count": null,
      "outputs": []
    },
    {
      "cell_type": "code",
      "source": [
        " Implement a generator function that reads a file line by line and yields each line as a string.\n",
        "\n",
        "def read_file_line_by_line(file_path):\n",
        "  with open(file_path, 'r') as file:\n",
        "    for line in file:\n",
        "      yield line.strip()  # Remove leading/trailing whitespace and newline characters\n",
        "\n",
        "\n",
        "# Example usage:\n",
        "file_path = 'your_file.txt'  # Replace with your file path\n",
        "for line in read_file_line_by_line(file_path):\n",
        "  print(line)"
      ],
      "metadata": {
        "id": "VA49Z9zAXKoj"
      },
      "execution_count": null,
      "outputs": []
    },
    {
      "cell_type": "markdown",
      "source": [],
      "metadata": {
        "id": "m60BY0NXXfXy"
      }
    },
    {
      "cell_type": "code",
      "source": [
        " Write a Python program that uses `map()` to convert a list of temperatures from Celsius to Fahrenheit.\n",
        "\n",
        "def celsius_to_fahrenheit(celsius):\n",
        "  return (celsius * 9/5) + 32\n",
        "\n",
        "temperatures_celsius = [0, 10, 20, 30, 40]\n",
        "temperatures_fahrenheit = list(map(celsius_to_fahrenheit, temperatures_celsius))\n",
        "print(temperatures_fahrenheit)"
      ],
      "metadata": {
        "id": "bo9jd3exXVmY"
      },
      "execution_count": null,
      "outputs": []
    },
    {
      "cell_type": "code",
      "source": [
        " Create a Python program that uses `filter()` to remove all the vowels from a given string.\n",
        "\n",
        "def remove_vowels(string):\n",
        "  vowels = \"aeiouAEIOU\"\n",
        "  return \"\".join(filter(lambda char: char not in vowels, string))\n",
        "\n",
        "# Example usage\n",
        "input_string = \"Hello, World!\"\n",
        "result = remove_vowels(input_string)\n",
        "print(result)  # Output: Hll, Wrld!"
      ],
      "metadata": {
        "id": "_0lz12IsXgwq"
      },
      "execution_count": null,
      "outputs": []
    },
    {
      "cell_type": "code",
      "source": [
        " Use a lambda function in Python to sort a list of tuples based on the second element of each tuple.\n",
        "\n",
        "data = [('apple', 2), ('banana', 1), ('orange', 3), ('grape', 0)]\n",
        "\n",
        "sorted_data = sorted(data, key=lambda x: x[1])\n",
        "\n",
        "print(sorted_data)"
      ],
      "metadata": {
        "id": "0EiBjdi1XmJj"
      },
      "execution_count": null,
      "outputs": []
    }
  ]
}